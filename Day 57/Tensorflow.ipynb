{
  "nbformat": 4,
  "nbformat_minor": 0,
  "metadata": {
    "colab": {
      "provenance": []
    },
    "kernelspec": {
      "name": "python3",
      "display_name": "Python 3"
    },
    "language_info": {
      "name": "python"
    }
  },
  "cells": [
    {
      "cell_type": "code",
      "source": [
        "import numpy as np\n",
        "from tensorflow.keras.models import Sequential\n",
        "from tensorflow.keras.layers import Embedding, LSTM, Dense, Dropout\n",
        "from tensorflow.keras.preprocessing.text import Tokenizer\n",
        "from tensorflow.keras.preprocessing.sequence import pad_sequences\n",
        "\n",
        "# Sample data\n",
        "sentences = [\n",
        "    \"I love my bike!\",\n",
        "    \"I had the worst experience in service.\",\n",
        "    \"It was ok, but nothing special.\",\n",
        "    \"The service consultant was terrible.\"\n",
        "]\n",
        "\n",
        "# Labels: Positive = 1, Negative = 0, Neutral = 2\n",
        "labels = [1, 0, 2, 0]\n",
        "\n",
        "# Tokenization and padding of sequences\n",
        "tokenizer = Tokenizer(num_words=10000, oov_token='<OOV>')\n",
        "tokenizer.fit_on_texts(sentences)\n",
        "word_index = tokenizer.word_index\n",
        "\n",
        "# Convert sentences to sequences\n",
        "sequences = tokenizer.texts_to_sequences(sentences)\n",
        "padded = pad_sequences(sequences, padding='post')\n",
        "\n",
        "# Create the model\n",
        "model = Sequential([\n",
        "    Embedding(input_dim=10000, output_dim=64, input_length=padded.shape[1]),\n",
        "    LSTM(64, return_sequences=False),\n",
        "    Dropout(0.5),\n",
        "    Dense(3, activation='softmax')\n",
        "])\n",
        "\n",
        "# Compile the model\n",
        "model.compile(loss='sparse_categorical_crossentropy', optimizer='adam', metrics=['accuracy'])\n",
        "\n",
        "# Train the model\n",
        "model.fit(padded, np.array(labels), epochs=5, verbose=1)\n",
        "\n",
        "# Make a prediction\n",
        "test_sentences = [\"I enjoyed the films.\"]\n",
        "test_seq = tokenizer.texts_to_sequences(test_sentences)\n",
        "test_padded = pad_sequences(test_seq, maxlen=padded.shape[1])\n",
        "prediction = model.predict(test_padded)\n",
        "predicted_class = np.argmax(prediction)\n",
        "\n",
        "print(f\"Predicted sentiment of the sentence: {predicted_class}\")"
      ],
      "metadata": {
        "colab": {
          "base_uri": "https://localhost:8080/"
        },
        "id": "wg9i2OT0_iNe",
        "outputId": "e62e6617-de1f-42ad-eff0-c2a2b50bc96c"
      },
      "execution_count": null,
      "outputs": [
        {
          "output_type": "stream",
          "name": "stdout",
          "text": [
            "Epoch 1/5\n"
          ]
        },
        {
          "output_type": "stream",
          "name": "stderr",
          "text": [
            "/usr/local/lib/python3.10/dist-packages/keras/src/layers/core/embedding.py:90: UserWarning: Argument `input_length` is deprecated. Just remove it.\n",
            "  warnings.warn(\n"
          ]
        },
        {
          "output_type": "stream",
          "name": "stdout",
          "text": [
            "\u001b[1m1/1\u001b[0m \u001b[32m━━━━━━━━━━━━━━━━━━━━\u001b[0m\u001b[37m\u001b[0m \u001b[1m2s\u001b[0m 2s/step - accuracy: 0.5000 - loss: 1.1025\n",
            "Epoch 2/5\n",
            "\u001b[1m1/1\u001b[0m \u001b[32m━━━━━━━━━━━━━━━━━━━━\u001b[0m\u001b[37m\u001b[0m \u001b[1m0s\u001b[0m 61ms/step - accuracy: 0.5000 - loss: 1.0835\n",
            "Epoch 3/5\n",
            "\u001b[1m1/1\u001b[0m \u001b[32m━━━━━━━━━━━━━━━━━━━━\u001b[0m\u001b[37m\u001b[0m \u001b[1m0s\u001b[0m 58ms/step - accuracy: 0.7500 - loss: 1.0749\n",
            "Epoch 4/5\n",
            "\u001b[1m1/1\u001b[0m \u001b[32m━━━━━━━━━━━━━━━━━━━━\u001b[0m\u001b[37m\u001b[0m \u001b[1m0s\u001b[0m 63ms/step - accuracy: 0.5000 - loss: 1.0720\n",
            "Epoch 5/5\n",
            "\u001b[1m1/1\u001b[0m \u001b[32m━━━━━━━━━━━━━━━━━━━━\u001b[0m\u001b[37m\u001b[0m \u001b[1m0s\u001b[0m 57ms/step - accuracy: 1.0000 - loss: 1.0693\n",
            "\u001b[1m1/1\u001b[0m \u001b[32m━━━━━━━━━━━━━━━━━━━━\u001b[0m\u001b[37m\u001b[0m \u001b[1m0s\u001b[0m 258ms/step\n",
            "Predicted sentiment of the sentence: 0\n"
          ]
        }
      ]
    },
    {
      "cell_type": "code",
      "source": [
        "# Rule-based text classification\n",
        "def classify_request(text):\n",
        "    text = text.lower()\n",
        "\n",
        "    if any(keyword in text for keyword in [\"billing\", \"invoice\", \"charge\"]):\n",
        "        return \"Billing Issue\"\n",
        "\n",
        "    elif any(keyword in text for keyword in [\"password\", \"access\", \"login\", \"account\"]):\n",
        "        return \"Technical Support\"\n",
        "\n",
        "    elif any(keyword in text for keyword in [\"hours\", \"time\", \"location\", \"general\"]):\n",
        "        return \"General Support\"\n",
        "\n",
        "    else:\n",
        "        return \"Other Support\"\n",
        "\n",
        "# Test sample\n",
        "requests = [\n",
        "    \"my account is blocked\",\n",
        "    \"I need my last billing details\",\n",
        "    \"I need to know the timing of my order\"\n",
        "]\n",
        "\n",
        "for request in requests:\n",
        "    category = classify_request(request)\n",
        "    print(f\"Request: {request}\\nCategory: {category}\\n\")\n"
      ],
      "metadata": {
        "colab": {
          "base_uri": "https://localhost:8080/"
        },
        "id": "RiwiwX52_izx",
        "outputId": "e4aafbfa-0e19-4f6e-b065-f7e0a378d594"
      },
      "execution_count": null,
      "outputs": [
        {
          "output_type": "stream",
          "name": "stdout",
          "text": [
            "Request: my account is blocked\n",
            "Category: Technical Support\n",
            "\n",
            "Request: I need my last billing details\n",
            "Category: Billing Issue\n",
            "\n",
            "Request: I need to know the timing of my order\n",
            "Category: Other Support\n",
            "\n"
          ]
        }
      ]
    },
    {
      "cell_type": "code",
      "source": [],
      "metadata": {
        "id": "RxiZsuHeGbpC"
      },
      "execution_count": null,
      "outputs": []
    }
  ]
}