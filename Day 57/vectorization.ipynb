{
  "nbformat": 4,
  "nbformat_minor": 0,
  "metadata": {
    "colab": {
      "provenance": []
    },
    "kernelspec": {
      "name": "python3",
      "display_name": "Python 3"
    },
    "language_info": {
      "name": "python"
    }
  },
  "cells": [
    {
      "cell_type": "code",
      "execution_count": null,
      "metadata": {
        "colab": {
          "base_uri": "https://localhost:8080/"
        },
        "id": "NXr9K-c2MIqo",
        "outputId": "a5310a4e-0144-4255-ceab-8bf88f3a4fe9"
      },
      "outputs": [
        {
          "output_type": "stream",
          "name": "stdout",
          "text": [
            "Accuracy:0.0\n"
          ]
        }
      ],
      "source": [
        "# create a model with logistic regression and Bow for the text classification\n",
        "\n",
        "import numpy as np\n",
        "from sklearn.feature_extraction.text import CountVectorizer\n",
        "from sklearn.linear_model import LogisticRegression\n",
        "from sklearn.metrics import accuracy_score\n",
        "from sklearn.model_selection import train_test_split\n",
        "\n",
        "# create sample data\n",
        "reviews=[\n",
        "    \"I love the movie, it was good\",\n",
        "    \"the movie was boring\",\n",
        "    \"excellent movie, actors done well\",\n",
        "    \"it was normal movie, nothing special\"\n",
        "\n",
        "    ]\n",
        "    # positive=1, negative=0, neural=2\n",
        "labels=[1,0,1,2]\n",
        "\n",
        "# create vectorization for the above\n",
        "vectorizer=CountVectorizer()\n",
        "x=vectorizer.fit_transform(reviews)\n",
        "y=np.array(labels)\n",
        "\n",
        "x_train,x_test,y_train,y_test=train_test_split(x,y,test_size=0.2,random_state=42)\n",
        "\n",
        "# create model\n",
        "model=LogisticRegression()\n",
        "model.fit(x_train,y_train)\n",
        "y_pred=model.predict(x_test)\n",
        "accuracy=accuracy_score(y_test,y_pred)\n",
        "print(f\"Accuracy:{accuracy}\")\n",
        "\n",
        "    # create a sample review for the prediction\n",
        "\n",
        "new_review=[\"I really enjoyed the movie\"]"
      ]
    }
  ]
}