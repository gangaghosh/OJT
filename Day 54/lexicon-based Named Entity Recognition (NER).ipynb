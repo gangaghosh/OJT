{
 "cells": [
  {
   "cell_type": "code",
   "execution_count": 28,
   "id": "ab20d61b-856c-4363-bf32-8f15dc42dd8f",
   "metadata": {},
   "outputs": [],
   "source": [
    "import re\n",
    "import nltk\n",
    "from nltk.tokenize import word_tokenize"
   ]
  },
  {
   "cell_type": "code",
   "execution_count": 36,
   "id": "41218b00-3add-4e68-b4b9-1129514bd5bb",
   "metadata": {},
   "outputs": [],
   "source": [
    "# Lexicons for different entity types\n",
    "# Sample lexicons for persons, organizations, and locations\n",
    "person_lexicon = {\"John\", \"Jane\", \"Alice\"}\n",
    "organization_lexicon = {\"OpenAI\", \"Google\", \"Microsoft\"}\n",
    "location_lexicon = {\"New York\", \"San Francisco\", \"Los Angeles\"}"
   ]
  },
  {
   "cell_type": "code",
   "execution_count": 38,
   "id": "ddb6bc50-5e40-46ec-bd48-52e9902a1a82",
   "metadata": {},
   "outputs": [],
   "source": [
    "# Sample text\n",
    "text = \"John Doe is the CEO of OpenAI. He lives in San Francisco.\""
   ]
  },
  {
   "cell_type": "code",
   "execution_count": 40,
   "id": "1ddabfb6-87e8-4c95-874d-2a045b7a5a3c",
   "metadata": {},
   "outputs": [
    {
     "name": "stdout",
     "output_type": "stream",
     "text": [
      "Lexicon-based NER: \n",
      "[('John', 'PERSON'), ('OpenAI', 'ORG')]\n"
     ]
    }
   ],
   "source": [
    "def lexicon_based_ner(text):\n",
    "    entities = []\n",
    "    tokens = word_tokenize(text)\n",
    "    for token in tokens:\n",
    "        if token in person_lexicon:\n",
    "            entities.append((token, \"PERSON\"))\n",
    "        elif token in organization_lexicon:\n",
    "            entities.append((token, \"ORG\"))\n",
    "        elif token in location_lexicon:\n",
    "            entities.append((token, \"LOC\"))\n",
    "    return entities\n",
    "    # Sample text\n",
    "text = \"John Doe is the CEO of OpenAI. He lives in San Francisco.\"\n",
    "print(\"Lexicon-based NER: \")\n",
    "print(lexicon_based_ner(text))"
   ]
  },
  {
   "cell_type": "code",
   "execution_count": null,
   "id": "b6000bd1-ad4a-4992-9251-b9cadf4b461d",
   "metadata": {},
   "outputs": [],
   "source": []
  }
 ],
 "metadata": {
  "kernelspec": {
   "display_name": "Python 3 (ipykernel)",
   "language": "python",
   "name": "python3"
  },
  "language_info": {
   "codemirror_mode": {
    "name": "ipython",
    "version": 3
   },
   "file_extension": ".py",
   "mimetype": "text/x-python",
   "name": "python",
   "nbconvert_exporter": "python",
   "pygments_lexer": "ipython3",
   "version": "3.12.4"
  }
 },
 "nbformat": 4,
 "nbformat_minor": 5
}
