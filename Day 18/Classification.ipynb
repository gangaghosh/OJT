{
 "cells": [
  {
   "cell_type": "code",
   "execution_count": 2,
   "id": "bd930084-5e90-4000-bb0b-f53700c23812",
   "metadata": {
    "tags": []
   },
   "outputs": [],
   "source": [
    "# Importing the required libraries\n",
    "import numpy as np\n",
    "import pandas as pd\n",
    "from sklearn.model_selection import train_test_split\n",
    "from sklearn.metrics import accuracy_score, precision_score, recall_score, f1_score\n",
    "from sklearn import datasets\n",
    "from sklearn import svm\n",
    "from sklearn.tree import DecisionTreeClassifier\n",
    "from sklearn.naive_bayes import GaussianNB\n"
   ]
  },
  {
   "cell_type": "code",
   "execution_count": 3,
   "id": "52e66e50-a73d-4c7e-aad5-ca7b5a15ce49",
   "metadata": {
    "tags": []
   },
   "outputs": [],
   "source": [
    "\n",
    "# import the iris dataset\n",
    "iris = datasets.load_iris()\n",
    "X = iris.data\n",
    "y = iris.target\n"
   ]
  },
  {
   "cell_type": "code",
   "execution_count": 4,
   "id": "8d6f9e6e-b97b-4b75-8d3f-3c464f533adf",
   "metadata": {
    "tags": []
   },
   "outputs": [],
   "source": [
    "# splitting X and y into training and testing sets\n",
    "X_train, X_test, y_train, y_test = train_test_split(\n",
    "\tX, y, test_size=0.3, random_state=1)\n"
   ]
  },
  {
   "cell_type": "code",
   "execution_count": 5,
   "id": "ab2f603f-36de-4d4c-abc6-d97bb7853338",
   "metadata": {
    "tags": []
   },
   "outputs": [
    {
     "name": "stdout",
     "output_type": "stream",
     "text": [
      "Accuracy of Gaussian Naive Bayes:  0.9333333333333333\n",
      "Precision of Gaussian Naive Bayes:  0.9352007469654529\n",
      "Recall of Gaussian Naive Bayes:  0.9333333333333333\n",
      "F1-Score of Gaussian Naive Bayes:  0.933615520282187\n"
     ]
    }
   ],
   "source": [
    "\n",
    "# GAUSSIAN NAIVE BAYES\n",
    "gnb = GaussianNB()\n",
    "\n",
    "# train the model\n",
    "gnb.fit(X_train, y_train)\n",
    "\n",
    "# make predictions\n",
    "gnb_pred = gnb.predict(X_test)\n",
    "\n",
    "# print the accuracy\n",
    "print(\"Accuracy of Gaussian Naive Bayes: \",\n",
    "\taccuracy_score(y_test, gnb_pred))\n",
    "\n",
    "# print other performance metrics\n",
    "print(\"Precision of Gaussian Naive Bayes: \",\n",
    "\tprecision_score(y_test, gnb_pred, average='weighted'))\n",
    "\n",
    "print(\"Recall of Gaussian Naive Bayes: \",\n",
    "\trecall_score(y_test, gnb_pred, average='weighted'))\n",
    "\n",
    "print(\"F1-Score of Gaussian Naive Bayes: \",\n",
    "\tf1_score(y_test, gnb_pred, average='weighted'))\n",
    "\n"
   ]
  },
  {
   "cell_type": "code",
   "execution_count": 7,
   "id": "3bdd3c21-4eca-4b71-bd7a-5fd3db043316",
   "metadata": {
    "tags": []
   },
   "outputs": [
    {
     "name": "stdout",
     "output_type": "stream",
     "text": [
      "Accuracy of Decision Tree Classifier:  0.9555555555555556\n",
      "Precision of Decision Tree Classifier:  0.9555555555555556\n",
      "Recall of Decision Tree Classifier:  0.9555555555555556\n",
      "F1-Score of Decision Tree Classifier:  0.9555555555555556\n"
     ]
    }
   ],
   "source": [
    "# DECISION TREE CLASSIFIER\n",
    "dt = DecisionTreeClassifier(random_state=0)\n",
    "\n",
    "# train the model\n",
    "dt.fit(X_train, y_train)\n",
    "\n",
    "# make predictions\n",
    "dt_pred = dt.predict(X_test)\n",
    "\n",
    "# print the accuracy\n",
    "print(\"Accuracy of Decision Tree Classifier: \",\n",
    "\taccuracy_score(y_test, dt_pred))\n",
    "\n",
    "# print other performance metrics\n",
    "print(\"Precision of Decision Tree Classifier: \",\n",
    "\tprecision_score(y_test, dt_pred, average='weighted'))\n",
    "\n",
    "print(\"Recall of Decision Tree Classifier: \",\n",
    "\trecall_score(y_test, dt_pred, average='weighted'))\n",
    "\n",
    "print(\"F1-Score of Decision Tree Classifier: \",\n",
    "\tf1_score(y_test, dt_pred, average='weighted'))\n",
    "\n"
   ]
  },
  {
   "cell_type": "code",
   "execution_count": 8,
   "id": "447db258-172b-419c-80ab-64399284e9b5",
   "metadata": {
    "tags": []
   },
   "outputs": [
    {
     "name": "stdout",
     "output_type": "stream",
     "text": [
      "Accuracy of Support Vector Machine:  1.0\n",
      "Precision of Support Vector Machine:  1.0\n",
      "Recall of Support Vector Machine:  1.0\n",
      "F1-Score of Support Vector Machine:  1.0\n"
     ]
    }
   ],
   "source": [
    "# SUPPORT VECTOR MACHINE\n",
    "svm_clf = svm.SVC(kernel='linear') # Linear Kernel\n",
    "\n",
    "# train the model\n",
    "svm_clf.fit(X_train, y_train)\n",
    "\n",
    "# make predictions\n",
    "svm_clf_pred = svm_clf.predict(X_test)\n",
    "\n",
    "# print the accuracy\n",
    "print(\"Accuracy of Support Vector Machine: \",\n",
    "\taccuracy_score(y_test, svm_clf_pred))\n",
    "\n",
    "# print other performance metrics\n",
    "print(\"Precision of Support Vector Machine: \",\n",
    "\tprecision_score(y_test, svm_clf_pred, average='weighted'))\n",
    "\n",
    "print(\"Recall of Support Vector Machine: \",\n",
    "\trecall_score(y_test, svm_clf_pred, average='weighted'))\n",
    "\n",
    "print(\"F1-Score of Support Vector Machine: \",\n",
    "\tf1_score(y_test, svm_clf_pred, average='weighted'))"
   ]
  },
  {
   "cell_type": "code",
   "execution_count": null,
   "id": "2572dc37-6f5c-448e-8350-57b3f69b0d43",
   "metadata": {},
   "outputs": [],
   "source": []
  }
 ],
 "metadata": {
  "kernelspec": {
   "display_name": "Python 3 (ipykernel)",
   "language": "python",
   "name": "python3"
  },
  "language_info": {
   "codemirror_mode": {
    "name": "ipython",
    "version": 3
   },
   "file_extension": ".py",
   "mimetype": "text/x-python",
   "name": "python",
   "nbconvert_exporter": "python",
   "pygments_lexer": "ipython3",
   "version": "3.11.5"
  }
 },
 "nbformat": 4,
 "nbformat_minor": 5
}
