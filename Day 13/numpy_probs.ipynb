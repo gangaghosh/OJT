{
 "cells": [
  {
   "cell_type": "code",
   "execution_count": 1,
   "id": "aed7fc56-a483-44b1-ab0a-abc173f819cd",
   "metadata": {
    "tags": []
   },
   "outputs": [],
   "source": [
    "import numpy as np"
   ]
  },
  {
   "cell_type": "code",
   "execution_count": 2,
   "id": "0a350271-e42c-499d-b6f5-2b4abb396803",
   "metadata": {
    "tags": []
   },
   "outputs": [
    {
     "name": "stdout",
     "output_type": "stream",
     "text": [
      "Non zero values in the array: 4\n"
     ]
    }
   ],
   "source": [
    "# 1. Counts the number of non-zero values in the array\n",
    "\n",
    "arr = np.array([1, 2, 0, 6, 8])\n",
    "# count non-zero values\n",
    "non_zero = np.count_nonzero(arr)\n",
    "# count_nonzero function in NumPy is used to count the number of non-zero elements\n",
    "print(\"Non zero values in the array:\", non_zero)"
   ]
  },
  {
   "cell_type": "code",
   "execution_count": 3,
   "id": "67257109-8fb3-4a69-9dd5-d50cc93d58ca",
   "metadata": {
    "tags": []
   },
   "outputs": [
    {
     "name": "stdout",
     "output_type": "stream",
     "text": [
      "Empty array:\n",
      " [[2.26155701e+137 3.67293914e+228 1.03090840e+243]\n",
      " [1.90886935e+136 3.02568842e+233 6.02202242e+175]\n",
      " [7.72122327e+015 2.26155701e+137 3.67293914e+228]]\n",
      "Full array:\n",
      " [[5 5 5]\n",
      " [5 5 5]\n",
      " [5 5 5]]\n"
     ]
    }
   ],
   "source": [
    "# 2. How to create an empty and a full NumPy array?\n",
    "\n",
    "# # Create an empty array\n",
    "empty_array = np.empty((3, 3))\n",
    "# empty creates an uninitialized array of specified shape and data type\n",
    "print(\"Empty array:\\n\", empty_array)\n",
    "\n",
    "# Create a full array with all elements as a specific value\n",
    "full_array = np.full((3, 3), 5)\n",
    "# full creates a new array of specified shape and data type, filled with a specified value\n",
    "print(\"Full array:\\n\", full_array)\n",
    "\n"
   ]
  },
  {
   "cell_type": "code",
   "execution_count": 4,
   "id": "3bc683b6-70a4-4680-be1a-bd739ce6e837",
   "metadata": {
    "tags": []
   },
   "outputs": [
    {
     "name": "stdout",
     "output_type": "stream",
     "text": [
      "Number of rows: 2\n",
      "Number of columns: 3\n"
     ]
    }
   ],
   "source": [
    "# 3. Find the number of rows and columns of a given matrix using NumPy\n",
    "\n",
    "matrix = np.array([[1, 2, 3], [4, 5, 6]])\n",
    "\n",
    "rows, cols = matrix.shape\n",
    "# shape attribute in NumPy is used to get the dimensions of an array\n",
    "print(\"Number of rows:\", rows)\n",
    "print(\"Number of columns:\", cols)\n",
    "\n",
    "\n"
   ]
  },
  {
   "cell_type": "code",
   "execution_count": 5,
   "id": "8de9077e-976f-4b57-a0a6-1e9953aa13e3",
   "metadata": {
    "tags": []
   },
   "outputs": [
    {
     "name": "stdout",
     "output_type": "stream",
     "text": [
      "Sum of values in the matrix: 21\n"
     ]
    }
   ],
   "source": [
    "# 4. Find the sum of values in a matrix\n",
    "\n",
    "matrix_array = np.array([[1, 2, 3], [4, 5, 6]])\n",
    "matrix_sum = np.sum(matrix_array)\n",
    "\n",
    "# sum function is used to compute the sum of array elements over a specified axis\n",
    "print(\"Sum of values in the matrix:\", matrix_sum)"
   ]
  },
  {
   "cell_type": "code",
   "execution_count": 6,
   "id": "657fee1c-910c-4782-b0f4-6b12108c5fa8",
   "metadata": {
    "tags": []
   },
   "outputs": [
    {
     "name": "stdout",
     "output_type": "stream",
     "text": [
      "\n",
      " [[ 1  2  3]\n",
      " [ 4  5  6]\n",
      " [ 7  8 10]]\n",
      "Sum of diagonal elements in 3x3 matrix: 16\n",
      "\n",
      " [[ 1  2  3  4]\n",
      " [ 5  6  7  8]\n",
      " [ 9 10 11 12]\n",
      " [13 14 15 16]]\n",
      "Sum of diagonal elements in 4x4 matrix: 34\n"
     ]
    }
   ],
   "source": [
    "\n",
    "# 5. Calculate the sum of the diagonal elements of a NumPy array 3*3 and 4*4\n",
    "# create 3x3 matrix\n",
    "matrix_3x3 = np.array([[1, 2, 3], [4, 5, 6], [7, 8, 10]])\n",
    "\n",
    "print(\"\\n\", matrix_3x3)\n",
    "\n",
    "sum_diagonal_matrix_3x3 = np.trace(matrix_3x3)\n",
    "# The trace of a matrix is defined as the sum of its diagonal elements\n",
    "\n",
    "print(\"Sum of diagonal elements in 3x3 matrix:\", sum_diagonal_matrix_3x3)\n",
    "\n",
    "# create 4x4 matrix\n",
    "matrix_4x4 = np.array([[1, 2, 3, 4], [5, 6, 7, 8], [9, 10, 11, 12], [13, 14, 15, 16]])\n",
    "\n",
    "print(\"\\n\", matrix_4x4)\n",
    "\n",
    "sum_diagonal_matrix_4x4 = np.trace(matrix_4x4)\n",
    "print(\"Sum of diagonal elements in 4x4 matrix:\", sum_diagonal_matrix_4x4)\n",
    "\n"
   ]
  },
  {
   "cell_type": "code",
   "execution_count": 7,
   "id": "cdb2bd3c-da09-40ed-a519-4fbee130cf18",
   "metadata": {
    "tags": []
   },
   "outputs": [
    {
     "name": "stdout",
     "output_type": "stream",
     "text": [
      "Diagonal elements: [1 5 9]\n"
     ]
    }
   ],
   "source": [
    "# (?) Extracting Diagonal Elements\n",
    "\n",
    "# Example 3x3 matrix\n",
    "matrix = np.array([[1, 2, 3], [4, 5, 6], [7, 8, 9]])\n",
    "\n",
    "# Extract the diagonal elements\n",
    "diagonal_elements = np.diag(matrix)\n",
    "# NumPy provides an easy way to extract the diagonal elements of a matrix using the np.diag function.\n",
    "print(\"Diagonal elements:\", diagonal_elements)\n",
    "\n"
   ]
  },
  {
   "cell_type": "code",
   "execution_count": 8,
   "id": "2b8ad7a6-7a4b-4bd3-9647-bdceed74d403",
   "metadata": {
    "tags": []
   },
   "outputs": [
    {
     "name": "stdout",
     "output_type": "stream",
     "text": [
      "original matrix:\n",
      " [[1 2]\n",
      " [3 4]]\n",
      "inverse of the matrix:\n",
      " [[-2.   1. ]\n",
      " [ 1.5 -0.5]]\n"
     ]
    }
   ],
   "source": [
    "# 6. How to inverse a matrix using NumPy\n",
    "matrix_i=np.array([[1,2],[3,4]])\n",
    "\n",
    "# calculate the inverse of a matrix\n",
    "inverse_matrix=np.linalg.inv(matrix_i)\n",
    "# linalg.inv function in NumPy is used to compute the inverse of a given square matrix\n",
    "\n",
    "print(\"original matrix:\\n\",matrix_i)\n",
    "print(\"inverse of the matrix:\\n\",inverse_matrix)\n"
   ]
  },
  {
   "cell_type": "code",
   "execution_count": 9,
   "id": "c9c458ad-1f2d-459e-b81a-49e73022a6f6",
   "metadata": {
    "tags": []
   },
   "outputs": [
    {
     "name": "stdout",
     "output_type": "stream",
     "text": [
      "multiplication of the matrix:\n",
      " [[19 22]\n",
      " [43 50]]\n"
     ]
    }
   ],
   "source": [
    "# 7. Matrix Multiplication in NumPy\n",
    "matrix1=np.array([[1,2],[3,4]])\n",
    "matrix2=np.array([[5,6],[7,8]])\n",
    "\n",
    "# matrix multiplication\n",
    "result=np.dot(matrix1,matrix2)\n",
    "# dot function in NumPy is used for matrix multiplication or dot product of two arrays\n",
    "print(\"multiplication of the matrix:\\n\",result)\n"
   ]
  },
  {
   "cell_type": "code",
   "execution_count": 10,
   "id": "10522adb-b865-460c-a743-1111505a8eeb",
   "metadata": {
    "tags": []
   },
   "outputs": [
    {
     "name": "stdout",
     "output_type": "stream",
     "text": [
      "Maximum value in the matrix: 9\n",
      "Minimum m in the matrix: 1\n"
     ]
    }
   ],
   "source": [
    "# 8. Get the maximum and minimum value from given matrix\n",
    "\n",
    "matrix_m = np.array([[1, 2, 3], [4, 5, 6], [7, 8, 9]])\n",
    "\n",
    "# Get the maximum and minimum values\n",
    "max_m=np.max(matrix_m)\n",
    "min_m=np.min(matrix_m)\n",
    "print(\"Maximum value in the matrix:\", max_m)\n",
    "print(\"Minimum m in the matrix:\", min_m)\n"
   ]
  },
  {
   "cell_type": "code",
   "execution_count": 11,
   "id": "5743511e-3bd4-4d39-8cae-e85116f25e9f",
   "metadata": {
    "tags": []
   },
   "outputs": [
    {
     "name": "stdout",
     "output_type": "stream",
     "text": [
      "Addition of matrices:\n",
      " [[ 6  8]\n",
      " [10 12]]\n"
     ]
    }
   ],
   "source": [
    "# 9. Adding and Subtracting Matrices in Python\n",
    "\n",
    "matrix_1 = np.array([[1, 2], [3, 4]])\n",
    "matrix_2 = np.array([[5, 6], [7, 8]])\n",
    "\n",
    "# Adding matrices\n",
    "add_matrix=np.add(matrix_1,matrix_2)\n",
    "print(\"Addition of matrices:\\n\", add_matrix)\n",
    "\n",
    "# Subtracting matrices\n",
    "substract_matrix=np.subtract(matrix_1,matrix_2)\n",
    "\n"
   ]
  },
  {
   "cell_type": "code",
   "execution_count": 12,
   "id": "3e45daa3-c274-484b-a4e0-e097f4da6d7c",
   "metadata": {
    "tags": []
   },
   "outputs": [
    {
     "name": "stdout",
     "output_type": "stream",
     "text": [
      "unique: [1 2 3 4]\n",
      "count: [1 2 3 4]\n",
      "Frequency of unique values: {1: 1, 2: 2, 3: 3, 4: 4}\n"
     ]
    }
   ],
   "source": [
    "\n",
    "# 10. How to count the frequency of unique values in NumPy array?\n",
    "array = np.array([1, 2, 2, 3, 3, 3, 4, 4, 4, 4])\n",
    "\n",
    "# Count the frequency of unique values\n",
    "unique,counts=np.unique(array,return_counts=True)\n",
    "print(\"unique:\",unique)\n",
    "print(\"count:\",counts)\n",
    "frequency=dict(zip(unique,counts))\n",
    "print(\"Frequency of unique values:\", frequency)\n"
   ]
  },
  {
   "cell_type": "code",
   "execution_count": null,
   "id": "335bdda8-05df-454a-b488-36a39bb08bb4",
   "metadata": {},
   "outputs": [],
   "source": []
  }
 ],
 "metadata": {
  "kernelspec": {
   "display_name": "Python 3 (ipykernel)",
   "language": "python",
   "name": "python3"
  },
  "language_info": {
   "codemirror_mode": {
    "name": "ipython",
    "version": 3
   },
   "file_extension": ".py",
   "mimetype": "text/x-python",
   "name": "python",
   "nbconvert_exporter": "python",
   "pygments_lexer": "ipython3",
   "version": "3.11.5"
  }
 },
 "nbformat": 4,
 "nbformat_minor": 5
}
