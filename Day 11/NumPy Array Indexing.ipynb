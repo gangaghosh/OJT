{
 "cells": [
  {
   "cell_type": "code",
   "execution_count": 1,
   "id": "477a0c09-4307-497b-897a-3d65d01745f9",
   "metadata": {
    "tags": []
   },
   "outputs": [
    {
     "name": "stdout",
     "output_type": "stream",
     "text": [
      "1\n"
     ]
    }
   ],
   "source": [
    "# Get the first element from the following array:\n",
    "import numpy as np\n",
    "x=np.array([1,2,3,4,5])\n",
    "print(x[0])"
   ]
  },
  {
   "cell_type": "code",
   "execution_count": 2,
   "id": "9393691a-4ff9-4a6d-b9b1-821cef57a0c2",
   "metadata": {
    "tags": []
   },
   "outputs": [
    {
     "name": "stdout",
     "output_type": "stream",
     "text": [
      "2\n"
     ]
    }
   ],
   "source": [
    "# Get the second element from the following array.\n",
    "import numpy as np \n",
    "x=np.array([1,2,3,4,5])\n",
    "print(x[1])"
   ]
  },
  {
   "cell_type": "code",
   "execution_count": 3,
   "id": "717c479a-dff0-4142-994c-c811e903313a",
   "metadata": {
    "tags": []
   },
   "outputs": [
    {
     "name": "stdout",
     "output_type": "stream",
     "text": [
      "7\n"
     ]
    }
   ],
   "source": [
    "# Get third and fourth elements from the following array and add them\n",
    "import numpy as np\n",
    "x=np.array([1,2,3,4,5])\n",
    "print(x[2]+ x[3])"
   ]
  },
  {
   "cell_type": "code",
   "execution_count": 6,
   "id": "2b28dadb-09e7-46a7-b65d-10aaab4632b1",
   "metadata": {
    "tags": []
   },
   "outputs": [
    {
     "name": "stdout",
     "output_type": "stream",
     "text": [
      "2\n"
     ]
    }
   ],
   "source": [
    "# Access the element on the first row, second column\n",
    "import numpy as np\n",
    "x=np.array([[1,2,3,4],[6,7,8,9]])\n",
    "print(x[0,1])"
   ]
  },
  {
   "cell_type": "code",
   "execution_count": 9,
   "id": "af49e925-351a-4c72-8526-55ccf9b7b29b",
   "metadata": {},
   "outputs": [
    {
     "name": "stdout",
     "output_type": "stream",
     "text": [
      "10\n"
     ]
    }
   ],
   "source": [
    "# Access the element on the 2nd row, 5th column:\n",
    "import numpy as np\n",
    "x=np.array([[1,2,3,4,5],[6,7,8,9,10]])\n",
    "print(x[1,4])"
   ]
  },
  {
   "cell_type": "code",
   "execution_count": 15,
   "id": "85469ad1-c7ac-4665-884c-844a5dfed7d9",
   "metadata": {
    "tags": []
   },
   "outputs": [
    {
     "name": "stdout",
     "output_type": "stream",
     "text": [
      "6\n"
     ]
    }
   ],
   "source": [
    "# Access the third element of the second array of the first array:\n",
    "import numpy as np\n",
    "x=np.array([[[1,2,3],[4,5,6]],[[7,8,9],[10,11,12]]])\n",
    "print(x[0, 1, 2])"
   ]
  },
  {
   "cell_type": "code",
   "execution_count": 18,
   "id": "5819aa8c-e42b-4201-89f1-3079d446bdd4",
   "metadata": {
    "tags": []
   },
   "outputs": [
    {
     "name": "stdout",
     "output_type": "stream",
     "text": [
      "10\n"
     ]
    }
   ],
   "source": [
    "# Print the last element from the 2nd dim:\n",
    "import numpy as np\n",
    "x=np.array([[1,2,3,4,5],[6,7,8,9,10]])\n",
    "print(x[1,-1])"
   ]
  },
  {
   "cell_type": "raw",
   "id": "40c56a99-344c-4114-aa3b-22fc19992061",
   "metadata": {},
   "source": []
  }
 ],
 "metadata": {
  "kernelspec": {
   "display_name": "Python 3 (ipykernel)",
   "language": "python",
   "name": "python3"
  },
  "language_info": {
   "codemirror_mode": {
    "name": "ipython",
    "version": 3
   },
   "file_extension": ".py",
   "mimetype": "text/x-python",
   "name": "python",
   "nbconvert_exporter": "python",
   "pygments_lexer": "ipython3",
   "version": "3.11.5"
  }
 },
 "nbformat": 4,
 "nbformat_minor": 5
}
