{
 "cells": [
  {
   "cell_type": "markdown",
   "id": "737d22c3-390b-417b-a1f1-9fd1a6ed6dc1",
   "metadata": {},
   "source": [
    "1. Count the number of non-zero values in the array"
   ]
  },
  {
   "cell_type": "code",
   "execution_count": 1,
   "id": "2b25d743-d68e-4864-b6b8-49e29a8b4e28",
   "metadata": {
    "tags": []
   },
   "outputs": [
    {
     "name": "stdout",
     "output_type": "stream",
     "text": [
      "Number of non-zero values: 4\n"
     ]
    }
   ],
   "source": [
    "import numpy as np\n",
    "\n",
    "# Example array\n",
    "array = np.array([0, 1, 2, 0, 3, 4, 0])\n",
    "\n",
    "# Count the number of non-zero values\n",
    "non_zero_count = np.count_nonzero(array)\n",
    "print(\"Number of non-zero values:\", non_zero_count)\n"
   ]
  },
  {
   "cell_type": "markdown",
   "id": "a05eae5d-ceba-4300-9c4b-90b8b54f492c",
   "metadata": {},
   "source": [
    "2. How to create an empty and a full NumPy array?"
   ]
  },
  {
   "cell_type": "code",
   "execution_count": 2,
   "id": "cdefe5eb-7236-4e17-b2ab-d29d685947b2",
   "metadata": {
    "tags": []
   },
   "outputs": [
    {
     "name": "stdout",
     "output_type": "stream",
     "text": [
      "Empty array:\n",
      " [[0. 0. 0.]\n",
      " [0. 0. 0.]\n",
      " [0. 0. 0.]]\n",
      "Full array:\n",
      " [[7 7 7]\n",
      " [7 7 7]\n",
      " [7 7 7]]\n"
     ]
    }
   ],
   "source": [
    "import numpy as np\n",
    "\n",
    "# Create an empty array (uninitialized)\n",
    "empty_array = np.empty((3, 3))\n",
    "print(\"Empty array:\\n\", empty_array)\n",
    "\n",
    "# Create a full array with all elements as a specific value (e.g., 7)\n",
    "full_array = np.full((3, 3), 7)\n",
    "print(\"Full array:\\n\", full_array)\n"
   ]
  },
  {
   "cell_type": "markdown",
   "id": "e6fcf041-23a1-402e-b98b-928b5e416b74",
   "metadata": {},
   "source": [
    "3. Find the number of rows and columns of a given matrix using NumPy"
   ]
  },
  {
   "cell_type": "code",
   "execution_count": 3,
   "id": "7a6ad400-8e0a-4f91-85a7-347f109bc953",
   "metadata": {
    "tags": []
   },
   "outputs": [
    {
     "name": "stdout",
     "output_type": "stream",
     "text": [
      "Number of rows: 3\n",
      "Number of columns: 3\n"
     ]
    }
   ],
   "source": [
    "import numpy as np\n",
    "\n",
    "# Example matrix\n",
    "matrix = np.array([[1, 2, 3], [4, 5, 6], [7, 8, 9]])\n",
    "\n",
    "# Get the number of rows and columns\n",
    "rows, cols = matrix.shape\n",
    "print(\"Number of rows:\", rows)\n",
    "print(\"Number of columns:\", cols)\n"
   ]
  },
  {
   "cell_type": "markdown",
   "id": "af71d0cb-b6b1-4d42-b45c-7e931ceb1194",
   "metadata": {},
   "source": [
    "4. Find the sum of values in a matrix"
   ]
  },
  {
   "cell_type": "code",
   "execution_count": 4,
   "id": "56ef8a02-e142-4b3e-b5b9-e3c3c6c9e56e",
   "metadata": {
    "tags": []
   },
   "outputs": [
    {
     "name": "stdout",
     "output_type": "stream",
     "text": [
      "Sum of values in the matrix: 45\n"
     ]
    }
   ],
   "source": [
    "import numpy as np\n",
    "\n",
    "# Example matrix\n",
    "matrix = np.array([[1, 2, 3], [4, 5, 6], [7, 8, 9]])\n",
    "\n",
    "# Calculate the sum of all values in the matrix\n",
    "matrix_sum = np.sum(matrix)\n",
    "print(\"Sum of values in the matrix:\", matrix_sum)\n"
   ]
  },
  {
   "cell_type": "markdown",
   "id": "2db187cd-e4b8-4b99-aa01-8247cf8d5c70",
   "metadata": {},
   "source": [
    "5. Calculate the sum of the diagonal elements of a NumPy array 33 and 44"
   ]
  },
  {
   "cell_type": "code",
   "execution_count": 5,
   "id": "d31adbd6-e155-4a82-b290-e508c0193ebe",
   "metadata": {
    "tags": []
   },
   "outputs": [
    {
     "name": "stdout",
     "output_type": "stream",
     "text": [
      "Sum of diagonal elements in 3x3 matrix: 15\n",
      "Sum of diagonal elements in 4x4 matrix: 34\n"
     ]
    }
   ],
   "source": [
    "import numpy as np\n",
    "\n",
    "# Example 3x3 matrix\n",
    "matrix_3x3 = np.array([[1, 2, 3], [4, 5, 6], [7, 8, 9]])\n",
    "# Sum of diagonal elements\n",
    "diagonal_sum_3x3 = np.trace(matrix_3x3)\n",
    "print(\"Sum of diagonal elements in 3x3 matrix:\", diagonal_sum_3x3)\n",
    "\n",
    "# Example 4x4 matrix\n",
    "matrix_4x4 = np.array([[1, 2, 3, 4], [5, 6, 7, 8], [9, 10, 11, 12], [13, 14, 15, 16]])\n",
    "# Sum of diagonal elements\n",
    "diagonal_sum_4x4 = np.trace(matrix_4x4)\n",
    "print(\"Sum of diagonal elements in 4x4 matrix:\", diagonal_sum_4x4)\n"
   ]
  },
  {
   "cell_type": "markdown",
   "id": "3ca35cfb-c499-43b8-b0b7-544b989dd285",
   "metadata": {},
   "source": [
    "6. How to inverse a matrix using NumPy"
   ]
  },
  {
   "cell_type": "code",
   "execution_count": 6,
   "id": "6257bf2e-3151-4b05-8b0a-acd18166611c",
   "metadata": {
    "tags": []
   },
   "outputs": [
    {
     "name": "stdout",
     "output_type": "stream",
     "text": [
      "Inverse of the matrix:\n",
      " [[-2.   1. ]\n",
      " [ 1.5 -0.5]]\n"
     ]
    }
   ],
   "source": [
    "import numpy as np\n",
    "\n",
    "# Example matrix\n",
    "matrix = np.array([[1, 2], [3, 4]])\n",
    "\n",
    "# Calculate the inverse of the matrix\n",
    "matrix_inverse = np.linalg.inv(matrix)\n",
    "print(\"Inverse of the matrix:\\n\", matrix_inverse)\n"
   ]
  },
  {
   "cell_type": "markdown",
   "id": "882cb550-00cd-4941-8182-1b063959a241",
   "metadata": {},
   "source": [
    "7. Matrix Multiplication in NumPy"
   ]
  },
  {
   "cell_type": "code",
   "execution_count": 7,
   "id": "3deaf17e-04dc-4b02-8bfd-e1a801e394b4",
   "metadata": {
    "tags": []
   },
   "outputs": [
    {
     "name": "stdout",
     "output_type": "stream",
     "text": [
      "Result of matrix multiplication:\n",
      " [[19 22]\n",
      " [43 50]]\n"
     ]
    }
   ],
   "source": [
    "import numpy as np\n",
    "\n",
    "# Example matrices\n",
    "matrix1 = np.array([[1, 2], [3, 4]])\n",
    "matrix2 = np.array([[5, 6], [7, 8]])\n",
    "\n",
    "# Matrix multiplication\n",
    "result = np.dot(matrix1, matrix2)\n",
    "print(\"Result of matrix multiplication:\\n\", result)\n"
   ]
  },
  {
   "cell_type": "markdown",
   "id": "fc79bbaf-1243-4bca-9233-bed2163f16b3",
   "metadata": {},
   "source": [
    "8. Get the maximum and minimum value from given matrix"
   ]
  },
  {
   "cell_type": "code",
   "execution_count": 8,
   "id": "021239fa-8684-475a-8c18-ad3c914087ef",
   "metadata": {
    "tags": []
   },
   "outputs": [
    {
     "name": "stdout",
     "output_type": "stream",
     "text": [
      "Maximum value in the matrix: 9\n",
      "Minimum value in the matrix: 1\n"
     ]
    }
   ],
   "source": [
    "import numpy as np\n",
    "\n",
    "# Example matrix\n",
    "matrix = np.array([[1, 2, 3], [4, 5, 6], [7, 8, 9]])\n",
    "\n",
    "# Get the maximum and minimum values\n",
    "max_value = np.max(matrix)\n",
    "min_value = np.min(matrix)\n",
    "print(\"Maximum value in the matrix:\", max_value)\n",
    "print(\"Minimum value in the matrix:\", min_value)\n"
   ]
  },
  {
   "cell_type": "markdown",
   "id": "61dec4ef-e85c-46fd-810b-e24898ab8fb0",
   "metadata": {},
   "source": [
    "9. Adding and Subtracting Matrices in Python"
   ]
  },
  {
   "cell_type": "code",
   "execution_count": 9,
   "id": "3d5be756-1a59-4b5c-874d-88a870fea8eb",
   "metadata": {
    "tags": []
   },
   "outputs": [
    {
     "name": "stdout",
     "output_type": "stream",
     "text": [
      "Addition of matrices:\n",
      " [[ 6  8]\n",
      " [10 12]]\n",
      "Subtraction of matrices:\n",
      " [[-4 -4]\n",
      " [-4 -4]]\n"
     ]
    }
   ],
   "source": [
    "import numpy as np\n",
    "\n",
    "# Example matrices\n",
    "matrix1 = np.array([[1, 2], [3, 4]])\n",
    "matrix2 = np.array([[5, 6], [7, 8]])\n",
    "\n",
    "# Adding matrices\n",
    "add_result = np.add(matrix1, matrix2)\n",
    "print(\"Addition of matrices:\\n\", add_result)\n",
    "\n",
    "# Subtracting matrices\n",
    "sub_result = np.subtract(matrix1, matrix2)\n",
    "print(\"Subtraction of matrices:\\n\", sub_result)\n"
   ]
  },
  {
   "cell_type": "markdown",
   "id": "29a9c24c-fc69-4842-b59d-c52f37837030",
   "metadata": {},
   "source": [
    "10. How to count the frequency of unique values in NumPy array?"
   ]
  },
  {
   "cell_type": "code",
   "execution_count": 10,
   "id": "31e6947e-cbe6-481d-9a2a-1695bb541067",
   "metadata": {
    "tags": []
   },
   "outputs": [
    {
     "name": "stdout",
     "output_type": "stream",
     "text": [
      "Frequency of unique values: {1: 1, 2: 2, 3: 3, 4: 4}\n"
     ]
    }
   ],
   "source": [
    "import numpy as np\n",
    "\n",
    "# Example array\n",
    "array = np.array([1, 2, 2, 3, 3, 3, 4, 4, 4, 4])\n",
    "\n",
    "# Count the frequency of unique values\n",
    "unique, counts = np.unique(array, return_counts=True)\n",
    "frequency = dict(zip(unique, counts))\n",
    "print(\"Frequency of unique values:\", frequency)\n"
   ]
  },
  {
   "cell_type": "code",
   "execution_count": null,
   "id": "02ecbf0c-3e0a-49b2-bd6d-ed1237b7a126",
   "metadata": {},
   "outputs": [],
   "source": []
  }
 ],
 "metadata": {
  "kernelspec": {
   "display_name": "Python 3 (ipykernel)",
   "language": "python",
   "name": "python3"
  },
  "language_info": {
   "codemirror_mode": {
    "name": "ipython",
    "version": 3
   },
   "file_extension": ".py",
   "mimetype": "text/x-python",
   "name": "python",
   "nbconvert_exporter": "python",
   "pygments_lexer": "ipython3",
   "version": "3.11.5"
  }
 },
 "nbformat": 4,
 "nbformat_minor": 5
}
