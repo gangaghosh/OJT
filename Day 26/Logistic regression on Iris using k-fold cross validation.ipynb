{
 "cells": [
  {
   "cell_type": "markdown",
   "id": "07fb8c11",
   "metadata": {},
   "source": [
    "# Lab 2 - Logistic regression on Iris using k-fold cross validation"
   ]
  },
  {
   "cell_type": "code",
   "execution_count": 1,
   "id": "3ec910a6",
   "metadata": {},
   "outputs": [],
   "source": [
    "# Import necessary library\n",
    "from sklearn.datasets import load_iris\n",
    "from sklearn.linear_model import LogisticRegression\n",
    "from sklearn.model_selection import cross_val_score, KFold"
   ]
  },
  {
   "cell_type": "code",
   "execution_count": 2,
   "id": "7b960a5c",
   "metadata": {},
   "outputs": [],
   "source": [
    "# Load the Iris dataset\n",
    "iris = load_iris()\n",
    "X = iris.data\n",
    "y = iris.target"
   ]
  },
  {
   "cell_type": "code",
   "execution_count": 3,
   "id": "3869256e",
   "metadata": {},
   "outputs": [],
   "source": [
    "# Initialize logistic regression model\n",
    "log_reg = LogisticRegression(max_iter=1000)  # Increase max_iter for convergence"
   ]
  },
  {
   "cell_type": "code",
   "execution_count": 4,
   "id": "a6546e64",
   "metadata": {},
   "outputs": [],
   "source": [
    "# Define k-fold cross-validation\n",
    "k_fold = KFold(n_splits=5, shuffle=True, random_state=42)  # 5-fold CV, shuffling data"
   ]
  },
  {
   "cell_type": "code",
   "execution_count": 5,
   "id": "89778058",
   "metadata": {},
   "outputs": [
    {
     "name": "stdout",
     "output_type": "stream",
     "text": [
      "Accuracy for each fold: [1.         1.         0.93333333 0.96666667 0.96666667]\n"
     ]
    }
   ],
   "source": [
    "# Perform cross-validation\n",
    "scores = cross_val_score(log_reg, X, y, cv=k_fold)\n",
    "# Print the accuracy for each fold\n",
    "print(\"Accuracy for each fold:\", scores)"
   ]
  },
  {
   "cell_type": "code",
   "execution_count": 6,
   "id": "4d60a858",
   "metadata": {},
   "outputs": [
    {
     "name": "stdout",
     "output_type": "stream",
     "text": [
      "Mean Accuracy: 0.9733333333333334\n",
      "Standard Deviation: 0.024944382578492935\n"
     ]
    }
   ],
   "source": [
    "# Print the mean accuracy and standard deviation\n",
    "print(\"Mean Accuracy:\", scores.mean())\n",
    "print(\"Standard Deviation:\", scores.std())"
   ]
  },
  {
   "cell_type": "code",
   "execution_count": 7,
   "id": "d7a2e73a",
   "metadata": {},
   "outputs": [
    {
     "name": "stdout",
     "output_type": "stream",
     "text": [
      "Accuracy for each fold: [1.         1.         0.93333333 0.96666667 0.96666667]\n",
      "Mean Accuracy: 0.9733333333333334\n",
      "Standard Deviation: 0.024944382578492935\n",
      "\n",
      "Precision for each fold: [1.         1.         0.93333333 0.97435897 0.97222222]\n",
      "Mean Precision: 0.9759829059829059\n",
      "Standard Deviation: 0.02445161570739294\n",
      "\n",
      "Recall for each fold: [1.         1.         0.93333333 0.96666667 0.97222222]\n",
      "Mean Recall: 0.9744444444444443\n",
      "Standard Deviation: 0.024745619390355685\n",
      "\n",
      "F1 for each fold: [1.         1.         0.92592593 0.96912281 0.97101449]\n",
      "Mean F1: 0.9732126451394187\n",
      "Standard Deviation: 0.027176155815727295\n",
      "\n"
     ]
    }
   ],
   "source": [
    "# Define scoring metrics\n",
    "scoring = {'accuracy': 'accuracy',\n",
    "           'precision': 'precision_macro',\n",
    "           'recall': 'recall_macro',\n",
    "           'f1': 'f1_macro'}\n",
    "\n",
    "# Perform cross-validation for each metric\n",
    "for metric, score_func in scoring.items():\n",
    "    scores = cross_val_score(log_reg, X, y, cv=k_fold, scoring=score_func)\n",
    "    print(f\"{metric.capitalize()} for each fold:\", scores)\n",
    "    print(f\"Mean {metric.capitalize()}: {scores.mean()}\")\n",
    "    print(f\"Standard Deviation: {scores.std()}\")\n",
    "    print()"
   ]
  },
  {
   "cell_type": "code",
   "execution_count": null,
   "id": "5816da79",
   "metadata": {},
   "outputs": [],
   "source": []
  }
 ],
 "metadata": {
  "kernelspec": {
   "display_name": "Python 3 (ipykernel)",
   "language": "python",
   "name": "python3"
  },
  "language_info": {
   "codemirror_mode": {
    "name": "ipython",
    "version": 3
   },
   "file_extension": ".py",
   "mimetype": "text/x-python",
   "name": "python",
   "nbconvert_exporter": "python",
   "pygments_lexer": "ipython3",
   "version": "3.11.5"
  }
 },
 "nbformat": 4,
 "nbformat_minor": 5
}
